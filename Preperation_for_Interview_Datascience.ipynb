{
  "nbformat": 4,
  "nbformat_minor": 0,
  "metadata": {
    "colab": {
      "name": "Preperation_for_Interview_Datascience.ipynb",
      "provenance": [],
      "collapsed_sections": [],
      "authorship_tag": "ABX9TyMi2NZYBkwJTLsZIQxmYdoI",
      "include_colab_link": true
    },
    "kernelspec": {
      "name": "python3",
      "display_name": "Python 3"
    },
    "language_info": {
      "name": "python"
    }
  },
  "cells": [
    {
      "cell_type": "markdown",
      "metadata": {
        "id": "view-in-github",
        "colab_type": "text"
      },
      "source": [
        "<a href=\"https://colab.research.google.com/github/bharathulaprasad/Datascience_Interview_Preperation/blob/main/Preperation_for_Interview_Datascience.ipynb\" target=\"_parent\"><img src=\"https://colab.research.google.com/assets/colab-badge.svg\" alt=\"Open In Colab\"/></a>"
      ]
    },
    {
      "cell_type": "markdown",
      "metadata": {
        "id": "9mnG0W5u-z_s"
      },
      "source": [
        "Metrics in Machine learning.\n",
        "Precision , Recall and F1\n",
        "\n",
        "\n",
        "---\n",
        "\n",
        "\n",
        "Precision = TP /(TP+FP)\n",
        "\n",
        "Recall= TP /(TP+FN)\n",
        "\n",
        "F1= 2 **x** precision **x** recall/(precision+recall)\n"
      ]
    },
    {
      "cell_type": "code",
      "metadata": {
        "colab": {
          "base_uri": "https://localhost:8080/"
        },
        "id": "h3JehO0a_Al8",
        "outputId": "8958c0f0-8c4d-4247-f99b-c57533c03124"
      },
      "source": [
        "#precision recall curve example\n",
        "import numpy as np\n",
        "from sklearn.metrics import precision_recall_curve\n",
        "y_true=np.array([0,1,1,0,1])\n",
        "y_scores=np.array([0.5,0.6,0.38,0.9,1])\n",
        "precision, recall, thresholds=precision_recall_curve(y_true,y_scores)\n",
        "print (precision)\n",
        "print(recall)"
      ],
      "execution_count": 5,
      "outputs": [
        {
          "output_type": "stream",
          "text": [
            "[0.6        0.5        0.66666667 0.5        1.         1.        ]\n",
            "[1.         0.66666667 0.66666667 0.33333333 0.33333333 0.        ]\n"
          ],
          "name": "stdout"
        }
      ]
    },
    {
      "cell_type": "code",
      "metadata": {
        "colab": {
          "base_uri": "https://localhost:8080/"
        },
        "id": "QvcVqeOmAQRC",
        "outputId": "7c3c5978-9a5e-417d-8a7f-7aea00ef3303"
      },
      "source": [
        "from sklearn.datasets import fetch_20newsgroups \n",
        "from sklearn.feature_extraction.text import CountVectorizer \n",
        "categories = ['alt.atheism'] \n",
        "newsgroups_train = fetch_20newsgroups(subset='train', categories=categories) \n",
        "count_vect = CountVectorizer() \n",
        "Train_counts = count_vect.fit_transform(newsgroups_train.data) \n",
        "print(count_vect.vocabulary_.get(u'man'))"
      ],
      "execution_count": 9,
      "outputs": [
        {
          "output_type": "stream",
          "text": [
            "Downloading 20news dataset. This may take a few minutes.\n",
            "Downloading dataset from https://ndownloader.figshare.com/files/5975967 (14 MB)\n"
          ],
          "name": "stderr"
        },
        {
          "output_type": "stream",
          "text": [
            "6941\n"
          ],
          "name": "stdout"
        }
      ]
    },
    {
      "cell_type": "markdown",
      "metadata": {
        "id": "sNIzhE5KCb32"
      },
      "source": [
        "what is Bias Variance Tradeoff? Underfitting, Overfitting...\n",
        "Bias and Variance are two independent sources of errors for machine learning which prevent algorithms to generalize the models learned beyond the training set.\n",
        "\n",
        "\n",
        "*   Bias is the error representing missing relations between features and outputs. In machine learning this phenomenon is called underfitting\n",
        "*   Variance is the error representing sensitiveness to small training data fluctuations. In machine learning this phenomenon is called overfitting.\n",
        "\n",
        "One way to reduce the **variance** is to try to get more data or to decrease the complexity of a model. One way to reduce the **bias** is to add more features or to make the model more complex, as adding more data will not help in this case. Finding the right balance between Bias and Variance is an art that every Data scientist must able to manage.\n",
        "\n"
      ]
    },
    {
      "cell_type": "code",
      "metadata": {
        "colab": {
          "base_uri": "https://localhost:8080/"
        },
        "id": "Abi-lBUvEH4S",
        "outputId": "a427f69c-637a-4cee-cd1e-14e340ea53f8"
      },
      "source": [
        "#SVM example\n",
        "import numpy as np \n",
        "\n",
        "from sklearn import datasets \n",
        "from sklearn import svm \n",
        "from sklearn.model_selection import train_test_split\n",
        "from sklearn.model_selection import cross_val_score\n",
        "diabetes = datasets.load_diabetes() \n",
        "#split the data in to train and test\n",
        "X_train, X_test, y_train, y_test = train_test_split(diabetes.data, diabetes.target, test_size=0.2)\n",
        "print(X_train.shape, y_train.shape)# test size 20% \n",
        "print(X_test.shape, y_test.shape)\n",
        "clf = svm.SVC(kernel='linear', C=1) \n",
        "scores = cross_val_score(clf, diabetes.data, diabetes.target ) # 5-folds which is the default \n",
        "print(scores)\n",
        "print(\"Accuracy: %0.2f (+/- %0.2f)\" % (scores.mean(), scores.std()))"
      ],
      "execution_count": 44,
      "outputs": [
        {
          "output_type": "stream",
          "text": [
            "(353, 10) (353,)\n",
            "(89, 10) (89,)\n"
          ],
          "name": "stdout"
        },
        {
          "output_type": "stream",
          "text": [
            "/usr/local/lib/python3.7/dist-packages/sklearn/model_selection/_split.py:667: UserWarning: The least populated class in y has only 1 members, which is less than n_splits=5.\n",
            "  % (min_groups, self.n_splits)), UserWarning)\n"
          ],
          "name": "stderr"
        },
        {
          "output_type": "stream",
          "text": [
            "[0.         0.01123596 0.01136364 0.01136364 0.02272727]\n",
            "Accuracy: 0.01 (+/- 0.01)\n"
          ],
          "name": "stdout"
        }
      ]
    },
    {
      "cell_type": "markdown",
      "metadata": {
        "id": "pdysfH-AJPWq"
      },
      "source": [
        ""
      ]
    },
    {
      "cell_type": "code",
      "metadata": {
        "id": "e83kGVnXI9lp"
      },
      "source": [
        ""
      ],
      "execution_count": null,
      "outputs": []
    },
    {
      "cell_type": "markdown",
      "metadata": {
        "id": "Tn56X6cfJTj5"
      },
      "source": [
        "What is Cross Validation score?\n",
        "\"**cross_val_score**\" splits the data into say 5 folds. Then for each fold it fits the data on 4 folds and scores the 5th fold. Then it gives you the 5 scores from which you can calculate a mean and variance for the score. You crossval to tune parameters and get an estimate of the score.\n",
        "Cross Validation is a very useful technique for assessing the effectiveness of your model, particularly in cases where you need to mitigate overfitting. It is also of use in determining the hyper parameters of your model, in the sense that which parameters will result in lowest test error."
      ]
    },
    {
      "cell_type": "code",
      "metadata": {
        "id": "nmCQIac9I7Fc"
      },
      "source": [
        ""
      ],
      "execution_count": null,
      "outputs": []
    },
    {
      "cell_type": "code",
      "metadata": {
        "id": "13Xcu1RmI5zY"
      },
      "source": [
        ""
      ],
      "execution_count": null,
      "outputs": []
    },
    {
      "cell_type": "code",
      "metadata": {
        "id": "QPbl_BCZI4bD"
      },
      "source": [
        ""
      ],
      "execution_count": null,
      "outputs": []
    },
    {
      "cell_type": "code",
      "metadata": {
        "id": "-zWAn9KMI3T5"
      },
      "source": [
        ""
      ],
      "execution_count": null,
      "outputs": []
    },
    {
      "cell_type": "code",
      "metadata": {
        "id": "T2kY8WyuHz5Y"
      },
      "source": [
        ""
      ],
      "execution_count": null,
      "outputs": []
    },
    {
      "cell_type": "code",
      "metadata": {
        "id": "_RyFtnqjHbpz"
      },
      "source": [
        ""
      ],
      "execution_count": null,
      "outputs": []
    },
    {
      "cell_type": "code",
      "metadata": {
        "id": "wArMPZrkHYnP"
      },
      "source": [
        ""
      ],
      "execution_count": null,
      "outputs": []
    },
    {
      "cell_type": "code",
      "metadata": {
        "id": "D104wQHFHXb_"
      },
      "source": [
        ""
      ],
      "execution_count": null,
      "outputs": []
    },
    {
      "cell_type": "code",
      "metadata": {
        "id": "ycsNpTPFHV-I"
      },
      "source": [
        ""
      ],
      "execution_count": null,
      "outputs": []
    },
    {
      "cell_type": "code",
      "metadata": {
        "id": "szmrceo1HOo0"
      },
      "source": [
        ""
      ],
      "execution_count": null,
      "outputs": []
    },
    {
      "cell_type": "code",
      "metadata": {
        "id": "tBe9NMBhHBty"
      },
      "source": [
        ""
      ],
      "execution_count": null,
      "outputs": []
    },
    {
      "cell_type": "code",
      "metadata": {
        "id": "GMvOnRrtG4w7"
      },
      "source": [
        ""
      ],
      "execution_count": null,
      "outputs": []
    },
    {
      "cell_type": "code",
      "metadata": {
        "id": "289iYHqFGtiJ"
      },
      "source": [
        ""
      ],
      "execution_count": null,
      "outputs": []
    },
    {
      "cell_type": "code",
      "metadata": {
        "id": "AVIzEy5KGqTU"
      },
      "source": [
        ""
      ],
      "execution_count": null,
      "outputs": []
    },
    {
      "cell_type": "code",
      "metadata": {
        "id": "GBYA3iqNGoMh"
      },
      "source": [
        ""
      ],
      "execution_count": null,
      "outputs": []
    },
    {
      "cell_type": "code",
      "metadata": {
        "id": "5UIx_ivFGk9H"
      },
      "source": [
        ""
      ],
      "execution_count": null,
      "outputs": []
    },
    {
      "cell_type": "code",
      "metadata": {
        "id": "WmF3S419Bu6V"
      },
      "source": [
        ""
      ],
      "execution_count": null,
      "outputs": []
    }
  ]
}