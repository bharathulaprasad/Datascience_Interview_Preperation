{
  "nbformat": 4,
  "nbformat_minor": 0,
  "metadata": {
    "colab": {
      "name": "Preperation_for_Interview_Datascience.ipynb",
      "provenance": [],
      "collapsed_sections": [],
      "authorship_tag": "ABX9TyP5uZtrMbDJaDnHsu1MH1Jy",
      "include_colab_link": true
    },
    "kernelspec": {
      "name": "python3",
      "display_name": "Python 3"
    },
    "language_info": {
      "name": "python"
    }
  },
  "cells": [
    {
      "cell_type": "markdown",
      "metadata": {
        "id": "view-in-github",
        "colab_type": "text"
      },
      "source": [
        "<a href=\"https://colab.research.google.com/github/bharathulaprasad/Datascience_Interview_Preperation/blob/main/Preperation_for_Interview_Datascience.ipynb\" target=\"_parent\"><img src=\"https://colab.research.google.com/assets/colab-badge.svg\" alt=\"Open In Colab\"/></a>"
      ]
    },
    {
      "cell_type": "markdown",
      "metadata": {
        "id": "9mnG0W5u-z_s"
      },
      "source": [
        "Metrics in Machine learning.\n",
        "Precision , Recall and F1\n",
        "\n",
        "\n",
        "---\n",
        "\n",
        "\n",
        "Precision = TP /(TP+FP)\n",
        "\n",
        "Recall= TP /(TP+FN)\n",
        "\n",
        "F1= 2 **x** precision **x** recall/(precision+recall)\n"
      ]
    },
    {
      "cell_type": "code",
      "metadata": {
        "colab": {
          "base_uri": "https://localhost:8080/"
        },
        "id": "h3JehO0a_Al8",
        "outputId": "8958c0f0-8c4d-4247-f99b-c57533c03124"
      },
      "source": [
        "#precision recall curve example\n",
        "import numpy as np\n",
        "from sklearn.metrics import precision_recall_curve\n",
        "y_true=np.array([0,1,1,0,1])\n",
        "y_scores=np.array([0.5,0.6,0.38,0.9,1])\n",
        "precision, recall, thresholds=precision_recall_curve(y_true,y_scores)\n",
        "print (precision)\n",
        "print(recall)"
      ],
      "execution_count": 5,
      "outputs": [
        {
          "output_type": "stream",
          "text": [
            "[0.6        0.5        0.66666667 0.5        1.         1.        ]\n",
            "[1.         0.66666667 0.66666667 0.33333333 0.33333333 0.        ]\n"
          ],
          "name": "stdout"
        }
      ]
    },
    {
      "cell_type": "code",
      "metadata": {
        "colab": {
          "base_uri": "https://localhost:8080/"
        },
        "id": "QvcVqeOmAQRC",
        "outputId": "7c3c5978-9a5e-417d-8a7f-7aea00ef3303"
      },
      "source": [
        "from sklearn.datasets import fetch_20newsgroups \n",
        "from sklearn.feature_extraction.text import CountVectorizer \n",
        "categories = ['alt.atheism'] \n",
        "newsgroups_train = fetch_20newsgroups(subset='train', categories=categories) \n",
        "count_vect = CountVectorizer() \n",
        "Train_counts = count_vect.fit_transform(newsgroups_train.data) \n",
        "print(count_vect.vocabulary_.get(u'man'))"
      ],
      "execution_count": 9,
      "outputs": [
        {
          "output_type": "stream",
          "text": [
            "Downloading 20news dataset. This may take a few minutes.\n",
            "Downloading dataset from https://ndownloader.figshare.com/files/5975967 (14 MB)\n"
          ],
          "name": "stderr"
        },
        {
          "output_type": "stream",
          "text": [
            "6941\n"
          ],
          "name": "stdout"
        }
      ]
    },
    {
      "cell_type": "markdown",
      "metadata": {
        "id": "sNIzhE5KCb32"
      },
      "source": [
        "what is Bias Variance Tradeoff? Underfitting, Overfitting...\n",
        "Bias and Variance are two independent sources of errors for machine learning which prevent algorithms to generalize the models learned beyond the training set.\n",
        "\n",
        "\n",
        "*   Bias is the error representing missing relations between features and outputs. In machine learning this phenomenon is called underfitting\n",
        "*   Variance is the error representing sensitiveness to small training data fluctuations. In machine learning this phenomenon is called overfitting.\n",
        "\n",
        "One way to reduce the **variance** is to try to get more data or to decrease the complexity of a model. One way to reduce the **bias** is to add more features or to make the model more complex, as adding more data will not help in this case. Finding the right balance between Bias and Variance is an art that every Data scientist must able to manage.\n",
        "\n"
      ]
    },
    {
      "cell_type": "code",
      "metadata": {
        "colab": {
          "base_uri": "https://localhost:8080/"
        },
        "id": "Abi-lBUvEH4S",
        "outputId": "60b142ef-4250-428a-a4eb-c1fe0decdba3"
      },
      "source": [
        "#SVM example\n",
        "import numpy as np \n",
        "\n",
        "from sklearn import datasets \n",
        "from sklearn import svm \n",
        "from sklearn.model_selection import train_test_split\n",
        "from sklearn.model_selection import cross_val_score\n",
        "from sklearn.model_selection import StratifiedKFold\n",
        "diabetes = datasets.load_diabetes() \n",
        "#split the data in to train and test\n",
        "skf = StratifiedKFold(n_splits=2)\n",
        "\n",
        "for train_index, test_index in skf.split(diabetes.data, diabetes.target):\n",
        "  print(\"TRAIN:\", train_index, \"TEST:\", test_index)\n",
        "  X_train, X_test = diabetes.data[train_index], diabetes.data[test_index]\n",
        "  y_train, y_test = diabetes.target[train_index], diabetes.target[test_index]\n",
        "  skf.get_n_splits(diabetes.data, diabetes.target)\n"
      ],
      "execution_count": 62,
      "outputs": [
        {
          "output_type": "stream",
          "text": [
            "TRAIN: [ 15  37  48  57  60  67  76  82  85  88  90  92  97  98 100 101 102 106\n",
            " 107 111 113 115 118 130 136 138 145 147 150 156 158 160 165 168 173 177\n",
            " 178 179 180 182 183 185 186 187 188 190 194 197 198 199 200 205 206 207\n",
            " 208 211 212 213 214 217 218 219 222 223 225 226 228 229 231 232 233 234\n",
            " 242 243 244 247 249 253 255 259 260 261 263 264 265 267 268 269 270 271\n",
            " 276 277 278 279 280 281 286 289 290 292 293 294 295 296 298 299 300 301\n",
            " 303 305 306 307 309 311 312 313 314 315 316 317 318 319 320 321 323 324\n",
            " 326 327 328 329 330 332 333 335 336 337 338 339 341 342 344 346 348 349\n",
            " 350 351 352 353 354 355 357 358 360 361 362 364 365 366 368 370 371 372\n",
            " 373 375 376 377 378 379 380 381 383 385 386 388 389 390 391 392 393 394\n",
            " 395 397 398 399 400 401 402 403 405 406 407 408 409 411 413 414 415 416\n",
            " 417 418 419 420 422 423 424 425 426 427 428 429 431 432 433 434 435 436\n",
            " 437 438 439 440 441] TEST: [  0   1   2   3   4   5   6   7   8   9  10  11  12  13  14  16  17  18\n",
            "  19  20  21  22  23  24  25  26  27  28  29  30  31  32  33  34  35  36\n",
            "  38  39  40  41  42  43  44  45  46  47  49  50  51  52  53  54  55  56\n",
            "  58  59  61  62  63  64  65  66  68  69  70  71  72  73  74  75  77  78\n",
            "  79  80  81  83  84  86  87  89  91  93  94  95  96  99 103 104 105 108\n",
            " 109 110 112 114 116 117 119 120 121 122 123 124 125 126 127 128 129 131\n",
            " 132 133 134 135 137 139 140 141 142 143 144 146 148 149 151 152 153 154\n",
            " 155 157 159 161 162 163 164 166 167 169 170 171 172 174 175 176 181 184\n",
            " 189 191 192 193 195 196 201 202 203 204 209 210 215 216 220 221 224 227\n",
            " 230 235 236 237 238 239 240 241 245 246 248 250 251 252 254 256 257 258\n",
            " 262 266 272 273 274 275 282 283 284 285 287 288 291 297 302 304 308 310\n",
            " 322 325 331 334 340 343 345 347 356 359 363 367 369 374 382 384 387 396\n",
            " 404 410 412 421 430]\n",
            "TRAIN: [  0   1   2   3   4   5   6   7   8   9  10  11  12  13  14  16  17  18\n",
            "  19  20  21  22  23  24  25  26  27  28  29  30  31  32  33  34  35  36\n",
            "  38  39  40  41  42  43  44  45  46  47  49  50  51  52  53  54  55  56\n",
            "  58  59  61  62  63  64  65  66  68  69  70  71  72  73  74  75  77  78\n",
            "  79  80  81  83  84  86  87  89  91  93  94  95  96  99 103 104 105 108\n",
            " 109 110 112 114 116 117 119 120 121 122 123 124 125 126 127 128 129 131\n",
            " 132 133 134 135 137 139 140 141 142 143 144 146 148 149 151 152 153 154\n",
            " 155 157 159 161 162 163 164 166 167 169 170 171 172 174 175 176 181 184\n",
            " 189 191 192 193 195 196 201 202 203 204 209 210 215 216 220 221 224 227\n",
            " 230 235 236 237 238 239 240 241 245 246 248 250 251 252 254 256 257 258\n",
            " 262 266 272 273 274 275 282 283 284 285 287 288 291 297 302 304 308 310\n",
            " 322 325 331 334 340 343 345 347 356 359 363 367 369 374 382 384 387 396\n",
            " 404 410 412 421 430] TEST: [ 15  37  48  57  60  67  76  82  85  88  90  92  97  98 100 101 102 106\n",
            " 107 111 113 115 118 130 136 138 145 147 150 156 158 160 165 168 173 177\n",
            " 178 179 180 182 183 185 186 187 188 190 194 197 198 199 200 205 206 207\n",
            " 208 211 212 213 214 217 218 219 222 223 225 226 228 229 231 232 233 234\n",
            " 242 243 244 247 249 253 255 259 260 261 263 264 265 267 268 269 270 271\n",
            " 276 277 278 279 280 281 286 289 290 292 293 294 295 296 298 299 300 301\n",
            " 303 305 306 307 309 311 312 313 314 315 316 317 318 319 320 321 323 324\n",
            " 326 327 328 329 330 332 333 335 336 337 338 339 341 342 344 346 348 349\n",
            " 350 351 352 353 354 355 357 358 360 361 362 364 365 366 368 370 371 372\n",
            " 373 375 376 377 378 379 380 381 383 385 386 388 389 390 391 392 393 394\n",
            " 395 397 398 399 400 401 402 403 405 406 407 408 409 411 413 414 415 416\n",
            " 417 418 419 420 422 423 424 425 426 427 428 429 431 432 433 434 435 436\n",
            " 437 438 439 440 441]\n"
          ],
          "name": "stdout"
        },
        {
          "output_type": "stream",
          "text": [
            "/usr/local/lib/python3.7/dist-packages/sklearn/model_selection/_split.py:667: UserWarning: The least populated class in y has only 1 members, which is less than n_splits=2.\n",
            "  % (min_groups, self.n_splits)), UserWarning)\n"
          ],
          "name": "stderr"
        }
      ]
    },
    {
      "cell_type": "markdown",
      "metadata": {
        "id": "JogWVqEAUZQ8"
      },
      "source": [
        "**Stratified KFold** is a variation of k-fold where each set contains approximately the same balanced percentage of samples for each target class as the complete set."
      ]
    },
    {
      "cell_type": "code",
      "metadata": {
        "id": "t9P0soHLUgA-"
      },
      "source": [
        ""
      ],
      "execution_count": null,
      "outputs": []
    },
    {
      "cell_type": "code",
      "metadata": {
        "id": "nkwFEnu4T-gq"
      },
      "source": [
        ""
      ],
      "execution_count": null,
      "outputs": []
    },
    {
      "cell_type": "code",
      "metadata": {
        "id": "ff_zeREgT3cO"
      },
      "source": [
        ""
      ],
      "execution_count": null,
      "outputs": []
    },
    {
      "cell_type": "code",
      "metadata": {
        "id": "D_b6g8BYTfVm"
      },
      "source": [
        ""
      ],
      "execution_count": null,
      "outputs": []
    },
    {
      "cell_type": "code",
      "metadata": {
        "id": "1KOuKR1JTXsy"
      },
      "source": [
        ""
      ],
      "execution_count": null,
      "outputs": []
    },
    {
      "cell_type": "code",
      "metadata": {
        "id": "1Xa1qo_6TAgA"
      },
      "source": [
        ""
      ],
      "execution_count": null,
      "outputs": []
    },
    {
      "cell_type": "code",
      "metadata": {
        "id": "hWbSFic6S7Jn"
      },
      "source": [
        ""
      ],
      "execution_count": null,
      "outputs": []
    },
    {
      "cell_type": "code",
      "metadata": {
        "id": "IfKLMItWS0a6"
      },
      "source": [
        ""
      ],
      "execution_count": null,
      "outputs": []
    },
    {
      "cell_type": "code",
      "metadata": {
        "id": "Dq47Mv01SxgZ"
      },
      "source": [
        ""
      ],
      "execution_count": null,
      "outputs": []
    },
    {
      "cell_type": "code",
      "metadata": {
        "id": "xYElRhFGSmy9"
      },
      "source": [
        ""
      ],
      "execution_count": null,
      "outputs": []
    },
    {
      "cell_type": "code",
      "metadata": {
        "id": "cDYPtGOwShgQ"
      },
      "source": [
        ""
      ],
      "execution_count": null,
      "outputs": []
    },
    {
      "cell_type": "code",
      "metadata": {
        "id": "fLo8l0S-RbSu"
      },
      "source": [
        ""
      ],
      "execution_count": null,
      "outputs": []
    },
    {
      "cell_type": "code",
      "metadata": {
        "id": "Sb4PVyYpRaLV"
      },
      "source": [
        ""
      ],
      "execution_count": null,
      "outputs": []
    },
    {
      "cell_type": "code",
      "metadata": {
        "id": "OG_BrjyWRYxv"
      },
      "source": [
        ""
      ],
      "execution_count": null,
      "outputs": []
    },
    {
      "cell_type": "code",
      "metadata": {
        "id": "8Eas_p2FRVfo"
      },
      "source": [
        ""
      ],
      "execution_count": null,
      "outputs": []
    },
    {
      "cell_type": "code",
      "metadata": {
        "id": "bVL-Ra2wRRca"
      },
      "source": [
        ""
      ],
      "execution_count": null,
      "outputs": []
    },
    {
      "cell_type": "code",
      "metadata": {
        "id": "1xollVvtRMfr"
      },
      "source": [
        ""
      ],
      "execution_count": null,
      "outputs": []
    },
    {
      "cell_type": "markdown",
      "metadata": {
        "id": "pdysfH-AJPWq"
      },
      "source": [
        ""
      ]
    },
    {
      "cell_type": "code",
      "metadata": {
        "id": "e83kGVnXI9lp"
      },
      "source": [
        ""
      ],
      "execution_count": null,
      "outputs": []
    },
    {
      "cell_type": "markdown",
      "metadata": {
        "id": "Tn56X6cfJTj5"
      },
      "source": [
        "What is Cross Validation score?\n",
        "\"**cross_val_score**\" splits the data into say 5 folds. Then for each fold it fits the data on 4 folds and scores the 5th fold. Then it gives you the 5 scores from which you can calculate a mean and variance for the score. You crossval to tune parameters and get an estimate of the score.\n",
        "Cross Validation is a very useful technique for assessing the effectiveness of your model, particularly in cases where you need to mitigate overfitting. It is also of use in determining the hyper parameters of your model, in the sense that which parameters will result in lowest test error."
      ]
    },
    {
      "cell_type": "code",
      "metadata": {
        "id": "nmCQIac9I7Fc"
      },
      "source": [
        ""
      ],
      "execution_count": null,
      "outputs": []
    },
    {
      "cell_type": "code",
      "metadata": {
        "id": "13Xcu1RmI5zY"
      },
      "source": [
        ""
      ],
      "execution_count": null,
      "outputs": []
    },
    {
      "cell_type": "code",
      "metadata": {
        "id": "QPbl_BCZI4bD"
      },
      "source": [
        ""
      ],
      "execution_count": null,
      "outputs": []
    },
    {
      "cell_type": "code",
      "metadata": {
        "id": "-zWAn9KMI3T5"
      },
      "source": [
        ""
      ],
      "execution_count": null,
      "outputs": []
    },
    {
      "cell_type": "code",
      "metadata": {
        "id": "T2kY8WyuHz5Y"
      },
      "source": [
        ""
      ],
      "execution_count": null,
      "outputs": []
    },
    {
      "cell_type": "code",
      "metadata": {
        "id": "_RyFtnqjHbpz"
      },
      "source": [
        ""
      ],
      "execution_count": null,
      "outputs": []
    },
    {
      "cell_type": "code",
      "metadata": {
        "id": "wArMPZrkHYnP"
      },
      "source": [
        ""
      ],
      "execution_count": null,
      "outputs": []
    },
    {
      "cell_type": "code",
      "metadata": {
        "id": "D104wQHFHXb_"
      },
      "source": [
        ""
      ],
      "execution_count": null,
      "outputs": []
    },
    {
      "cell_type": "code",
      "metadata": {
        "id": "ycsNpTPFHV-I"
      },
      "source": [
        ""
      ],
      "execution_count": null,
      "outputs": []
    },
    {
      "cell_type": "code",
      "metadata": {
        "id": "szmrceo1HOo0"
      },
      "source": [
        ""
      ],
      "execution_count": null,
      "outputs": []
    },
    {
      "cell_type": "code",
      "metadata": {
        "id": "tBe9NMBhHBty"
      },
      "source": [
        ""
      ],
      "execution_count": null,
      "outputs": []
    },
    {
      "cell_type": "code",
      "metadata": {
        "id": "GMvOnRrtG4w7"
      },
      "source": [
        ""
      ],
      "execution_count": null,
      "outputs": []
    },
    {
      "cell_type": "code",
      "metadata": {
        "id": "289iYHqFGtiJ"
      },
      "source": [
        ""
      ],
      "execution_count": null,
      "outputs": []
    },
    {
      "cell_type": "code",
      "metadata": {
        "id": "AVIzEy5KGqTU"
      },
      "source": [
        ""
      ],
      "execution_count": null,
      "outputs": []
    },
    {
      "cell_type": "code",
      "metadata": {
        "id": "GBYA3iqNGoMh"
      },
      "source": [
        ""
      ],
      "execution_count": null,
      "outputs": []
    },
    {
      "cell_type": "code",
      "metadata": {
        "id": "5UIx_ivFGk9H"
      },
      "source": [
        ""
      ],
      "execution_count": null,
      "outputs": []
    },
    {
      "cell_type": "code",
      "metadata": {
        "id": "WmF3S419Bu6V"
      },
      "source": [
        ""
      ],
      "execution_count": null,
      "outputs": []
    }
  ]
}