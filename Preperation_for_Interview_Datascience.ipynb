{
  "nbformat": 4,
  "nbformat_minor": 0,
  "metadata": {
    "colab": {
      "name": "Preperation_for_Interview_Datascience.ipynb",
      "provenance": [],
      "collapsed_sections": [],
      "authorship_tag": "ABX9TyNjE65FYafBPvWDEBAFXQI3",
      "include_colab_link": true
    },
    "kernelspec": {
      "name": "python3",
      "display_name": "Python 3"
    },
    "language_info": {
      "name": "python"
    }
  },
  "cells": [
    {
      "cell_type": "markdown",
      "metadata": {
        "id": "view-in-github",
        "colab_type": "text"
      },
      "source": [
        "<a href=\"https://colab.research.google.com/github/bharathulaprasad/Datascience_Interview_Preperation/blob/main/Preperation_for_Interview_Datascience.ipynb\" target=\"_parent\"><img src=\"https://colab.research.google.com/assets/colab-badge.svg\" alt=\"Open In Colab\"/></a>"
      ]
    },
    {
      "cell_type": "markdown",
      "metadata": {
        "id": "9mnG0W5u-z_s"
      },
      "source": [
        "Metrics in Machine learning.\n",
        "Precision , Recall and F1\n",
        "\n",
        "\n",
        "---\n",
        "\n",
        "\n",
        "Precision = TP /(TP+FP)\n",
        "\n",
        "Recall= TP /(TP+FN)\n",
        "\n",
        "F1= 2 **x** precision **x** recall/(precision+recall)\n"
      ]
    },
    {
      "cell_type": "code",
      "metadata": {
        "id": "h3JehO0a_Al8"
      },
      "source": [
        "#precision recall curve example\n",
        "import numpy as np\n",
        "from sklearn.metrics"
      ],
      "execution_count": null,
      "outputs": []
    }
  ]
}