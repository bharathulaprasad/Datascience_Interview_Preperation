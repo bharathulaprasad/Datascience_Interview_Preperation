{
  "nbformat": 4,
  "nbformat_minor": 0,
  "metadata": {
    "colab": {
      "name": "Preperation_for_Interview_Datascience.ipynb",
      "provenance": [],
      "collapsed_sections": [],
      "authorship_tag": "ABX9TyPacAJ/yW7RnOszXTpnBbks",
      "include_colab_link": true
    },
    "kernelspec": {
      "name": "python3",
      "display_name": "Python 3"
    },
    "language_info": {
      "name": "python"
    }
  },
  "cells": [
    {
      "cell_type": "markdown",
      "metadata": {
        "id": "view-in-github",
        "colab_type": "text"
      },
      "source": [
        "<a href=\"https://colab.research.google.com/github/bharathulaprasad/Datascience_Interview_Preperation/blob/main/Preperation_for_Interview_Datascience.ipynb\" target=\"_parent\"><img src=\"https://colab.research.google.com/assets/colab-badge.svg\" alt=\"Open In Colab\"/></a>"
      ]
    },
    {
      "cell_type": "markdown",
      "metadata": {
        "id": "9mnG0W5u-z_s"
      },
      "source": [
        "Metrics in Machine learning.\n",
        "Precision , Recall and F1\n",
        "\n",
        "\n",
        "---\n",
        "\n",
        "\n",
        "Precision = TP /(TP+FP)\n",
        "\n",
        "Recall= TP /(TP+FN)\n",
        "\n",
        "F1= 2 **x** precision **x** recall/(precision+recall)\n"
      ]
    },
    {
      "cell_type": "code",
      "metadata": {
        "colab": {
          "base_uri": "https://localhost:8080/"
        },
        "id": "h3JehO0a_Al8",
        "outputId": "8958c0f0-8c4d-4247-f99b-c57533c03124"
      },
      "source": [
        "#precision recall curve example\n",
        "import numpy as np\n",
        "from sklearn.metrics import precision_recall_curve\n",
        "y_true=np.array([0,1,1,0,1])\n",
        "y_scores=np.array([0.5,0.6,0.38,0.9,1])\n",
        "precision, recall, thresholds=precision_recall_curve(y_true,y_scores)\n",
        "print (precision)\n",
        "print(recall)"
      ],
      "execution_count": 5,
      "outputs": [
        {
          "output_type": "stream",
          "text": [
            "[0.6        0.5        0.66666667 0.5        1.         1.        ]\n",
            "[1.         0.66666667 0.66666667 0.33333333 0.33333333 0.        ]\n"
          ],
          "name": "stdout"
        }
      ]
    },
    {
      "cell_type": "code",
      "metadata": {
        "id": "QvcVqeOmAQRC"
      },
      "source": [
        ""
      ],
      "execution_count": null,
      "outputs": []
    }
  ]
}